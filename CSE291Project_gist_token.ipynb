{
 "cells": [
  {
   "cell_type": "code",
   "execution_count": 3,
   "id": "234742a0-f2b8-48ce-97d0-164f430a2233",
   "metadata": {},
   "outputs": [],
   "source": [
    "import re\n",
    "import torch\n",
    "import torch.nn as nn\n",
    "from torch.utils.data import Dataset, DataLoader\n",
    "from transformers import BertTokenizer, BertModel\n",
    "from tqdm import tqdm\n",
    "from sklearn.metrics import classification_report, f1_score\n",
    "\n",
    "# Device setup\n",
    "device = torch.device(\"cuda\" if torch.cuda.is_available() else \"cpu\")\n",
    "\n",
    "# Define Gist Token extraction function\n",
    "def extract_gist(text, date):\n",
    "    # Define regex patterns for dates, company names, and events\n",
    "    date_pattern = r\"\\b\\d{4}-\\d{2}-\\d{2}\\b\"  # Matches YYYY-MM-DD\n",
    "    company_pattern = r\"\\b[A-Z][a-zA-Z]+(?:\\s[A-Z][a-zA-Z]+)*\\b\"  # Matches proper nouns (e.g., \"Apple Inc.\")\n",
    "    event_keywords = [\"earnings\", \"merger\", \"report\", \"acquisition\", \"profit\", \"loss\", \"growth\", \"decline\"]\n",
    "\n",
    "    # Extract entities\n",
    "    companies = re.findall(company_pattern, text)\n",
    "    events = [word for word in event_keywords if word in text.lower()]\n",
    "\n",
    "    # Create gist token\n",
    "    gist = f\"[GIST] {' '.join(companies)} {' '.join(events)} [DATE] {date}\"\n",
    "    return gist\n",
    "\n",
    "# Define custom dataset with Gist Tokens\n",
    "class GistTokenDataset(Dataset):\n",
    "    def __init__(self, texts, dates, labels, tokenizer, max_len=512):\n",
    "        self.texts = texts\n",
    "        self.dates = dates\n",
    "        self.labels = labels\n",
    "        self.tokenizer = tokenizer\n",
    "        self.max_len = max_len\n",
    "\n",
    "    def __len__(self):\n",
    "        return len(self.texts)\n",
    "\n",
    "    def __getitem__(self, idx):\n",
    "        text = self.texts[idx]\n",
    "        date = self.dates[idx]\n",
    "        label = self.labels[idx]\n",
    "\n",
    "        gist = extract_gist(text, date)\n",
    "        encoding = self.tokenizer.encode_plus(\n",
    "            gist + \" \" + text,\n",
    "            max_length=self.max_len,\n",
    "            truncation=True,\n",
    "            padding=\"max_length\",\n",
    "            return_tensors=\"pt\",\n",
    "        )\n",
    "        return {\n",
    "            \"input_ids\": encoding[\"input_ids\"].squeeze(0),\n",
    "            \"attention_mask\": encoding[\"attention_mask\"].squeeze(0),\n",
    "            \"labels\": torch.tensor(label, dtype=torch.long)\n",
    "        }"
   ]
  },
  {
   "cell_type": "code",
   "execution_count": 4,
   "id": "6f17ba3b-8b6b-4265-bc39-9d7550cd93fe",
   "metadata": {},
   "outputs": [],
   "source": [
    "# Define model with altered attention mechanism and frozen layers\n",
    "class GistEnhancedTransformer(nn.Module):\n",
    "    def __init__(self, base_model_name=\"bert-base-uncased\"):\n",
    "        super(GistEnhancedTransformer, self).__init__()\n",
    "        self.bert = BertModel.from_pretrained(base_model_name)\n",
    "        self.hidden_size = self.bert.config.hidden_size\n",
    "\n",
    "        # Freeze embedding and encoder layers\n",
    "        for param in self.bert.embeddings.parameters():\n",
    "            param.requires_grad = False\n",
    "        for param in self.bert.encoder.parameters():\n",
    "            param.requires_grad = False\n",
    "\n",
    "        # Custom attention mechanism\n",
    "        self.attention_layer = nn.Linear(self.hidden_size, 1)\n",
    "        self.output_layer = nn.Linear(self.hidden_size, 2)  # Binary classification (increase or decrease)\n",
    "\n",
    "    def forward(self, input_ids, attention_mask):\n",
    "        outputs = self.bert(\n",
    "            input_ids=input_ids,\n",
    "            attention_mask=attention_mask,\n",
    "            output_attentions=True,\n",
    "            return_dict=True,\n",
    "        )\n",
    "        hidden_states = outputs.last_hidden_state  # Shape: (batch_size, seq_len, hidden_dim)\n",
    "        attention_scores = self.attention_layer(hidden_states).squeeze(-1)  # Shape: (batch_size, seq_len)\n",
    "\n",
    "        # Apply softmax to create attention scores\n",
    "        attention_weights = torch.nn.functional.softmax(attention_scores, dim=-1)\n",
    "\n",
    "        # Compute weighted sum of hidden states\n",
    "        context_vector = torch.matmul(attention_weights.unsqueeze(1), hidden_states).squeeze(1)\n",
    "\n",
    "        # Pass the context vector through output layer for classification\n",
    "        logits = self.output_layer(context_vector)\n",
    "        return logits, attention_weights\n"
   ]
  },
  {
   "cell_type": "code",
   "execution_count": 6,
   "id": "2b286946-8c86-423f-bc7e-63c66afa3387",
   "metadata": {},
   "outputs": [],
   "source": [
    "import pandas as pd\n",
    "# Load dataset\n",
    "train_data = pd.read_csv(\"train_stock_news.csv\")\n",
    "test_data = pd.read_csv(\"test_stock_news.csv\")\n",
    "\n",
    "# Prepare labels and text\n",
    "train_labels = (train_data[\"Close\"].diff().fillna(0) > 0).astype(int).tolist()\n",
    "test_labels = (test_data[\"Close\"].diff().fillna(0) > 0).astype(int).tolist()\n",
    "train_texts = train_data[\"Text\"].tolist()\n",
    "train_dates = train_data[\"Date\"].tolist()\n",
    "test_texts = test_data[\"Text\"].tolist()\n",
    "test_dates = test_data[\"Date\"].tolist()\n",
    "\n",
    "# Tokenizer and dataset preparation\n",
    "tokenizer = BertTokenizer.from_pretrained(\"bert-base-uncased\")\n",
    "train_dataset = GistTokenDataset(train_texts, train_dates, train_labels, tokenizer)\n",
    "test_dataset = GistTokenDataset(test_texts, test_dates, test_labels, tokenizer)\n",
    "train_loader = DataLoader(train_dataset, batch_size=16, shuffle=True)\n",
    "test_loader = DataLoader(test_dataset, batch_size=16)\n"
   ]
  },
  {
   "cell_type": "code",
   "execution_count": 8,
   "id": "739d83fd-ded5-450e-9d0e-a2ce053946e7",
   "metadata": {},
   "outputs": [
    {
     "name": "stderr",
     "output_type": "stream",
     "text": [
      "Epoch 1/3: 100%|██████████| 161/161 [40:30<00:00, 15.10s/it]\n"
     ]
    },
    {
     "name": "stdout",
     "output_type": "stream",
     "text": [
      "Epoch 1, Loss: 0.5870\n"
     ]
    },
    {
     "name": "stderr",
     "output_type": "stream",
     "text": [
      "Epoch 2/3: 100%|██████████| 161/161 [40:23<00:00, 15.05s/it]\n"
     ]
    },
    {
     "name": "stdout",
     "output_type": "stream",
     "text": [
      "Epoch 2, Loss: 0.5094\n"
     ]
    },
    {
     "name": "stderr",
     "output_type": "stream",
     "text": [
      "Epoch 3/3: 100%|██████████| 161/161 [40:27<00:00, 15.08s/it]"
     ]
    },
    {
     "name": "stdout",
     "output_type": "stream",
     "text": [
      "Epoch 3, Loss: 0.4966\n"
     ]
    },
    {
     "name": "stderr",
     "output_type": "stream",
     "text": [
      "\n"
     ]
    }
   ],
   "source": [
    "# Initialize model\n",
    "model = GistEnhancedTransformer().to(device)\n",
    "\n",
    "# Optimizer and loss function\n",
    "optimizer = torch.optim.AdamW(filter(lambda p: p.requires_grad, model.parameters()), lr=2e-5)\n",
    "criterion = nn.CrossEntropyLoss()\n",
    "\n",
    "# Training loop\n",
    "epochs = 3\n",
    "for epoch in range(epochs):\n",
    "    model.train()\n",
    "    total_loss = 0\n",
    "    for batch in tqdm(train_loader, desc=f\"Epoch {epoch+1}/{epochs}\"):\n",
    "        optimizer.zero_grad()\n",
    "\n",
    "        input_ids = batch[\"input_ids\"].to(device)\n",
    "        attention_mask = batch[\"attention_mask\"].to(device)\n",
    "        labels = batch[\"labels\"].to(device)\n",
    "\n",
    "        logits, _ = model(input_ids, attention_mask)\n",
    "        loss = criterion(logits, labels)\n",
    "\n",
    "        loss.backward()\n",
    "        optimizer.step()\n",
    "        total_loss += loss.item()\n",
    "\n",
    "    print(f\"Epoch {epoch+1}, Loss: {total_loss / len(train_loader):.4f}\")\n"
   ]
  },
  {
   "cell_type": "code",
   "execution_count": 10,
   "id": "5d9187be-9ed0-4536-bf06-cfb1a757189e",
   "metadata": {},
   "outputs": [
    {
     "name": "stdout",
     "output_type": "stream",
     "text": [
      "Model saved to modified_attention_model.pth\n"
     ]
    }
   ],
   "source": [
    "# Save the trained model\n",
    "model_save_path = \"saved_modified_attention_model.pth\"\n",
    "torch.save(model.state_dict(), model_save_path)\n",
    "print(f\"Model saved to {model_save_path}\")"
   ]
  },
  {
   "cell_type": "code",
   "execution_count": 9,
   "id": "05803d7d-ff35-4fec-bde5-e10f130c7c7e",
   "metadata": {},
   "outputs": [
    {
     "name": "stdout",
     "output_type": "stream",
     "text": [
      "F1 Score: 0.7259\n",
      "                precision    recall  f1-score   support\n",
      "\n",
      "Down/No Change       0.81      1.00      0.90       895\n",
      "            Up       0.00      0.00      0.00       209\n",
      "\n",
      "      accuracy                           0.81      1104\n",
      "     macro avg       0.41      0.50      0.45      1104\n",
      "  weighted avg       0.66      0.81      0.73      1104\n",
      "\n"
     ]
    },
    {
     "name": "stderr",
     "output_type": "stream",
     "text": [
      "C:\\Users\\19793\\anaconda3\\Lib\\site-packages\\sklearn\\metrics\\_classification.py:1531: UndefinedMetricWarning: Precision is ill-defined and being set to 0.0 in labels with no predicted samples. Use `zero_division` parameter to control this behavior.\n",
      "  _warn_prf(average, modifier, f\"{metric.capitalize()} is\", len(result))\n",
      "C:\\Users\\19793\\anaconda3\\Lib\\site-packages\\sklearn\\metrics\\_classification.py:1531: UndefinedMetricWarning: Precision is ill-defined and being set to 0.0 in labels with no predicted samples. Use `zero_division` parameter to control this behavior.\n",
      "  _warn_prf(average, modifier, f\"{metric.capitalize()} is\", len(result))\n",
      "C:\\Users\\19793\\anaconda3\\Lib\\site-packages\\sklearn\\metrics\\_classification.py:1531: UndefinedMetricWarning: Precision is ill-defined and being set to 0.0 in labels with no predicted samples. Use `zero_division` parameter to control this behavior.\n",
      "  _warn_prf(average, modifier, f\"{metric.capitalize()} is\", len(result))\n"
     ]
    }
   ],
   "source": [
    "# Evaluate the model\n",
    "model.eval()\n",
    "all_preds, all_labels = [], []\n",
    "\n",
    "with torch.no_grad():\n",
    "    for batch in test_loader:\n",
    "        input_ids = batch[\"input_ids\"].to(device)\n",
    "        attention_mask = batch[\"attention_mask\"].to(device)\n",
    "        labels = batch[\"labels\"].to(device)\n",
    "\n",
    "        logits, _ = model(input_ids, attention_mask)\n",
    "        preds = torch.argmax(logits, dim=1)\n",
    "\n",
    "        all_preds.extend(preds.cpu().numpy())\n",
    "        all_labels.extend(labels.cpu().numpy())\n",
    "\n",
    "# Calculate F1 Score and Classification Report\n",
    "f1 = f1_score(all_labels, all_preds, average=\"weighted\")\n",
    "print(f\"F1 Score: {f1:.4f}\")\n",
    "print(classification_report(all_labels, all_preds, target_names=[\"Down/No Change\", \"Up\"]))"
   ]
  },
  {
   "cell_type": "code",
   "execution_count": null,
   "id": "fa1677e9-af9b-403a-83d8-00711c2eaae1",
   "metadata": {},
   "outputs": [],
   "source": []
  },
  {
   "cell_type": "code",
   "execution_count": null,
   "id": "db62cabc-0cb1-42dc-9c42-e84b4905c825",
   "metadata": {},
   "outputs": [],
   "source": []
  },
  {
   "cell_type": "code",
   "execution_count": null,
   "id": "2ff9d6f0-88bc-4960-8517-408500431117",
   "metadata": {},
   "outputs": [],
   "source": []
  },
  {
   "cell_type": "code",
   "execution_count": null,
   "id": "4548e80f-f3e9-4936-bc81-9a434e06af45",
   "metadata": {},
   "outputs": [],
   "source": []
  },
  {
   "cell_type": "code",
   "execution_count": null,
   "id": "b7698148-146d-49ac-87d2-16b74eb35931",
   "metadata": {},
   "outputs": [],
   "source": []
  },
  {
   "cell_type": "code",
   "execution_count": null,
   "id": "fc9c3216-1aaf-4bb7-89a4-3870cb895d01",
   "metadata": {},
   "outputs": [],
   "source": []
  }
 ],
 "metadata": {
  "kernelspec": {
   "display_name": "Python 3 (ipykernel)",
   "language": "python",
   "name": "python3"
  },
  "language_info": {
   "codemirror_mode": {
    "name": "ipython",
    "version": 3
   },
   "file_extension": ".py",
   "mimetype": "text/x-python",
   "name": "python",
   "nbconvert_exporter": "python",
   "pygments_lexer": "ipython3",
   "version": "3.12.7"
  }
 },
 "nbformat": 4,
 "nbformat_minor": 5
}
